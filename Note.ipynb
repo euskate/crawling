{
 "nbformat": 4,
 "nbformat_minor": 2,
 "metadata": {
  "language_info": {
   "name": "python",
   "codemirror_mode": {
    "name": "ipython",
    "version": 3
   },
   "version": "3.7.4"
  },
  "orig_nbformat": 2,
  "file_extension": ".py",
  "mimetype": "text/x-python",
  "name": "python",
  "npconvert_exporter": "python",
  "pygments_lexer": "ipython3",
  "version": 3
 },
 "cells": [
  {
   "cell_type": "markdown",
   "execution_count": null,
   "metadata": {},
   "outputs": [],
   "source": [
    "# 웹 개발 수업"
   ]
  },
  {
   "cell_type": "markdown",
   "execution_count": null,
   "metadata": {},
   "outputs": [],
   "source": [
    "## docker 설치 및 관련 명령어\n",
    "\n",
    "docker툴박스 다운로드 : https://github.com/docker/toolbox/releases\n",
    "\n",
    "docker search oracle-12c  => 오라클 이미지 검색\n",
    "\n",
    "docker-machine stop  => 도커 머신 종료, 메모리를 8G로 변경\n",
    "\n",
    "docker-machine start => 도커 머신 시작\n",
    "\n",
    "\n",
    "docker pull truevoly/oracle-12c   <= 이미지를 가져옴. \n",
    "\n",
    "docker images  => 이미지 확인\n",
    "\n",
    "컨테이너 만들기 (최초 1 회만)\n",
    "\n",
    "docker run --name oracle12c -d -p 32765:8080 -p 32764:1521 truevoly/oracle-12c\n",
    "\n",
    "docker logs oracle12c =>설치 완료인지 확인\n",
    "\n",
    "docker ps -a  => 구동중인 컨테이너 확인\n",
    "\n",
    "docker start oracle12c => 2번째 부터) 컨테이너 구동\n",
    "\n",
    "docker stop oracle12c => 옵션) 컨데이너 실행 중지\n",
    "\n",
    "docker rm oracle12c => 옵션) 컨테이너 삭제"
   ]
  },
  {
   "cell_type": "markdown",
   "execution_count": null,
   "metadata": {},
   "outputs": [],
   "source": [
    "### 데이터 베이스 접속 client 프로그램 설치\n",
    "\n",
    "http://ihongss.com/zip/java8.zip  => 설치\n",
    "\n",
    "http://ihongss.com/zip/sqldeveloper.zip => 압축만 풀기\n",
    "\n",
    "http://ihongss.com/zip/oracle_client.zip => 압축만 풀기"
   ]
  },
  {
   "cell_type": "markdown",
   "execution_count": 1,
   "metadata": {},
   "outputs": [
    {
     "ename": "SyntaxError",
     "evalue": "invalid syntax (<ipython-input-1-b4a38bc3ef89>, line 3)",
     "output_type": "error",
     "traceback": [
      "\u001b[1;36m  File \u001b[1;32m\"<ipython-input-1-b4a38bc3ef89>\"\u001b[1;36m, line \u001b[1;32m3\u001b[0m\n\u001b[1;33m    새 접속(+)\u001b[0m\n\u001b[1;37m       ^\u001b[0m\n\u001b[1;31mSyntaxError\u001b[0m\u001b[1;31m:\u001b[0m invalid syntax\n"
     ]
    }
   ],
   "source": [
    "### Oracle SQL Developer\n",
    "\n",
    "- 새 접속(+)\n",
    "\n",
    "\t- Name : 192.168.99.100_system\n",
    "\t- 사용자 이름 : system\n",
    "\t- 비밀번호 : oracle\n",
    "\t- 호스트이름 : 192.168.99.100\n",
    "\t- 포트 : 32764 (오라클 기본 포트는 1521이다.)\n",
    "\t- SID : xe\n",
    "\n",
    "\t[_system 워크시트]\n",
    "\tCREATE user admin IDENTIFIED BY 1234;\n",
    "\tgrant connect, resource, dba to admin;\n",
    "\n",
    "(시스템 계정은 최상위 관리자만 사용한다.)\n",
    "\n",
    "시스템 계정으로 관리자 계정 생성 후 새 접속(+)\n",
    "\n",
    "- admin\n",
    "\n",
    "\t- Name : 192.168.99.100_admin\n",
    "\t- 사용자 이름 : admin\n",
    "\t- 비밀번호 : 1234\n",
    "\t- 호스트이름 : 192.168.99.100\n",
    "\t- 포트 : 32764 (오라클 기본 포트는 1521이다.)\n",
    "\t- SID : xe\n",
    "\n"
   ]
  },
  {
   "cell_type": "code",
   "execution_count": null,
   "metadata": {},
   "outputs": [],
   "source": []
  }
 ]
}